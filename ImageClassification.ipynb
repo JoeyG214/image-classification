{
 "cells": [
  {
   "cell_type": "markdown",
   "id": "9740d40c-63b4-486b-9732-81fb12f09641",
   "metadata": {},
   "source": [
    "# Image Classification"
   ]
  },
  {
   "cell_type": "markdown",
   "id": "dda8c646-9d67-41ab-97f1-1ab2b3e9765a",
   "metadata": {},
   "source": [
    "## Data Preprocessing"
   ]
  },
  {
   "cell_type": "markdown",
   "id": "a18d770d-86da-4184-9975-89c4a4677176",
   "metadata": {},
   "source": [
    "### Import Libraries"
   ]
  },
  {
   "cell_type": "code",
   "execution_count": null,
   "id": "dd4624f8-a488-4455-b46d-3800042acad4",
   "metadata": {},
   "outputs": [],
   "source": []
  },
  {
   "cell_type": "markdown",
   "id": "d2782e2e-0705-42e4-9397-ec5c812663f8",
   "metadata": {},
   "source": [
    "### Import Dataset"
   ]
  },
  {
   "cell_type": "markdown",
   "id": "342718f5-f01c-4dd9-8178-d517f2079dc7",
   "metadata": {},
   "source": [
    "## Using Basline Model"
   ]
  },
  {
   "cell_type": "markdown",
   "id": "df1e441e-deaf-4a18-85cc-111a13ca16e7",
   "metadata": {},
   "source": [
    "## Using Convolutional Neural Network"
   ]
  },
  {
   "cell_type": "markdown",
   "id": "78551916-3790-4e50-8bb0-6228cdb7f191",
   "metadata": {},
   "source": [
    "## Using ResNet (Residual Networks)"
   ]
  },
  {
   "cell_type": "markdown",
   "id": "ed0d4885-2136-4393-895c-36aa0a4c03ad",
   "metadata": {},
   "source": [
    "## Using EfficientNet"
   ]
  }
 ],
 "metadata": {
  "kernelspec": {
   "display_name": "Python 3 (ipykernel)",
   "language": "python",
   "name": "python3"
  },
  "language_info": {
   "codemirror_mode": {
    "name": "ipython",
    "version": 3
   },
   "file_extension": ".py",
   "mimetype": "text/x-python",
   "name": "python",
   "nbconvert_exporter": "python",
   "pygments_lexer": "ipython3",
   "version": "3.11.7"
  }
 },
 "nbformat": 4,
 "nbformat_minor": 5
}
